{
  "nbformat": 4,
  "nbformat_minor": 0,
  "metadata": {
    "kernelspec": {
      "display_name": "Python 3",
      "language": "python",
      "name": "python3"
    },
    "language_info": {
      "codemirror_mode": {
        "name": "ipython",
        "version": 3
      },
      "file_extension": ".py",
      "mimetype": "text/x-python",
      "name": "python",
      "nbconvert_exporter": "python",
      "pygments_lexer": "ipython3",
      "version": "3.7.4"
    },
    "colab": {
      "name": "rain_interpo_product.ipynb",
      "provenance": []
    }
  },
  "cells": [
    {
      "cell_type": "code",
      "metadata": {
        "id": "bVncxGr4AqkV",
        "colab_type": "code",
        "colab": {}
      },
      "source": [
        "import pandas as pd\n",
        "from metpy.interpolate import (interpolate_to_grid, remove_nan_observations,remove_repeat_coordinates)\n",
        "import matplotlib.pyplot as plt\n",
        "import matplotlib as mpl\n",
        "from scipy import linalg, optimize\n",
        "import numpy as np\n",
        "from matplotlib.colors import BoundaryNorm\n",
        "from scipy.interpolate import griddata  \n",
        "import numpy.ma as ma\n",
        "import folium\n",
        "from folium.plugins import HeatMap\n",
        "import branca\n",
        "import branca.colormap as cm\n"
      ],
      "execution_count": null,
      "outputs": []
    },
    {
      "cell_type": "code",
      "metadata": {
        "id": "jpFjOfQrAqkb",
        "colab_type": "code",
        "colab": {}
      },
      "source": [
        "Filename= \"data.csv\"\n",
        "colnames = ['municiom','code','UF','Nome','lon','lat','tempo','preci','']"
      ],
      "execution_count": null,
      "outputs": []
    },
    {
      "cell_type": "code",
      "metadata": {
        "id": "onXPK-1yAqke",
        "colab_type": "code",
        "colab": {},
        "outputId": "321559da-203e-438b-ad35-ca0a6e3ba9ef"
      },
      "source": [
        "dado=pd.read_csv(Filename, sep=';', names=colnames)\n",
        "dado"
      ],
      "execution_count": null,
      "outputs": [
        {
          "output_type": "stream",
          "text": [
            "/Users/vlsantos/opt/anaconda3/lib/python3.7/site-packages/IPython/core/interactiveshell.py:3058: DtypeWarning: Columns (4,5,7) have mixed types. Specify dtype option on import or set low_memory=False.\n",
            "  interactivity=interactivity, compiler=compiler, result=result)\n"
          ],
          "name": "stderr"
        },
        {
          "output_type": "execute_result",
          "data": {
            "text/html": [
              "<div>\n",
              "<style scoped>\n",
              "    .dataframe tbody tr th:only-of-type {\n",
              "        vertical-align: middle;\n",
              "    }\n",
              "\n",
              "    .dataframe tbody tr th {\n",
              "        vertical-align: top;\n",
              "    }\n",
              "\n",
              "    .dataframe thead th {\n",
              "        text-align: right;\n",
              "    }\n",
              "</style>\n",
              "<table border=\"1\" class=\"dataframe\">\n",
              "  <thead>\n",
              "    <tr style=\"text-align: right;\">\n",
              "      <th></th>\n",
              "      <th>municiom</th>\n",
              "      <th>code</th>\n",
              "      <th>UF</th>\n",
              "      <th>Nome</th>\n",
              "      <th>lon</th>\n",
              "      <th>lat</th>\n",
              "      <th>tempo</th>\n",
              "      <th>preci</th>\n",
              "      <th></th>\n",
              "    </tr>\n",
              "  </thead>\n",
              "  <tbody>\n",
              "    <tr>\n",
              "      <td>0</td>\n",
              "      <td>municipio</td>\n",
              "      <td>codEstacao</td>\n",
              "      <td>uf</td>\n",
              "      <td>nomeEstacao</td>\n",
              "      <td>latitude</td>\n",
              "      <td>longitude</td>\n",
              "      <td>datahora</td>\n",
              "      <td>valorMedida</td>\n",
              "      <td>NaN</td>\n",
              "    </tr>\n",
              "    <tr>\n",
              "      <td>1</td>\n",
              "      <td>ÁGUA SANTA</td>\n",
              "      <td>430005901A</td>\n",
              "      <td>RS</td>\n",
              "      <td>Centro</td>\n",
              "      <td>-52.034</td>\n",
              "      <td>-28.176</td>\n",
              "      <td>2020-05-01 00:10:00.0</td>\n",
              "      <td>0.00</td>\n",
              "      <td>NaN</td>\n",
              "    </tr>\n",
              "    <tr>\n",
              "      <td>2</td>\n",
              "      <td>ÁGUA SANTA</td>\n",
              "      <td>430005901A</td>\n",
              "      <td>RS</td>\n",
              "      <td>Centro</td>\n",
              "      <td>-52.034</td>\n",
              "      <td>-28.176</td>\n",
              "      <td>2020-05-01 01:10:00.0</td>\n",
              "      <td>0.00</td>\n",
              "      <td>NaN</td>\n",
              "    </tr>\n",
              "    <tr>\n",
              "      <td>3</td>\n",
              "      <td>ÁGUA SANTA</td>\n",
              "      <td>430005901A</td>\n",
              "      <td>RS</td>\n",
              "      <td>Centro</td>\n",
              "      <td>-52.034</td>\n",
              "      <td>-28.176</td>\n",
              "      <td>2020-05-01 02:10:00.0</td>\n",
              "      <td>0.00</td>\n",
              "      <td>NaN</td>\n",
              "    </tr>\n",
              "    <tr>\n",
              "      <td>4</td>\n",
              "      <td>ÁGUA SANTA</td>\n",
              "      <td>430005901A</td>\n",
              "      <td>RS</td>\n",
              "      <td>Centro</td>\n",
              "      <td>-52.034</td>\n",
              "      <td>-28.176</td>\n",
              "      <td>2020-05-01 03:10:00.0</td>\n",
              "      <td>0.00</td>\n",
              "      <td>NaN</td>\n",
              "    </tr>\n",
              "    <tr>\n",
              "      <td>...</td>\n",
              "      <td>...</td>\n",
              "      <td>...</td>\n",
              "      <td>...</td>\n",
              "      <td>...</td>\n",
              "      <td>...</td>\n",
              "      <td>...</td>\n",
              "      <td>...</td>\n",
              "      <td>...</td>\n",
              "      <td>...</td>\n",
              "    </tr>\n",
              "    <tr>\n",
              "      <td>138353</td>\n",
              "      <td>VIAMÃO</td>\n",
              "      <td>432300206A</td>\n",
              "      <td>RS</td>\n",
              "      <td>São Lucas</td>\n",
              "      <td>-51.063</td>\n",
              "      <td>-30.092</td>\n",
              "      <td>2020-05-31 22:20:00.0</td>\n",
              "      <td>0.2</td>\n",
              "      <td>NaN</td>\n",
              "    </tr>\n",
              "    <tr>\n",
              "      <td>138354</td>\n",
              "      <td>VIAMÃO</td>\n",
              "      <td>432300206A</td>\n",
              "      <td>RS</td>\n",
              "      <td>São Lucas</td>\n",
              "      <td>-51.063</td>\n",
              "      <td>-30.092</td>\n",
              "      <td>2020-05-31 22:30:00.0</td>\n",
              "      <td>0.2</td>\n",
              "      <td>NaN</td>\n",
              "    </tr>\n",
              "    <tr>\n",
              "      <td>138355</td>\n",
              "      <td>VIAMÃO</td>\n",
              "      <td>432300206A</td>\n",
              "      <td>RS</td>\n",
              "      <td>São Lucas</td>\n",
              "      <td>-51.063</td>\n",
              "      <td>-30.092</td>\n",
              "      <td>2020-05-31 22:40:00.0</td>\n",
              "      <td>0.2</td>\n",
              "      <td>NaN</td>\n",
              "    </tr>\n",
              "    <tr>\n",
              "      <td>138356</td>\n",
              "      <td>VIAMÃO</td>\n",
              "      <td>432300206A</td>\n",
              "      <td>RS</td>\n",
              "      <td>São Lucas</td>\n",
              "      <td>-51.063</td>\n",
              "      <td>-30.092</td>\n",
              "      <td>2020-05-31 22:50:00.0</td>\n",
              "      <td>0.2</td>\n",
              "      <td>NaN</td>\n",
              "    </tr>\n",
              "    <tr>\n",
              "      <td>138357</td>\n",
              "      <td>VIAMÃO</td>\n",
              "      <td>432300206A</td>\n",
              "      <td>RS</td>\n",
              "      <td>São Lucas</td>\n",
              "      <td>-51.063</td>\n",
              "      <td>-30.092</td>\n",
              "      <td>2020-05-31 23:50:00.0</td>\n",
              "      <td>0</td>\n",
              "      <td>NaN</td>\n",
              "    </tr>\n",
              "  </tbody>\n",
              "</table>\n",
              "<p>138358 rows × 9 columns</p>\n",
              "</div>"
            ],
            "text/plain": [
              "          municiom        code  UF         Nome       lon        lat  \\\n",
              "0        municipio  codEstacao  uf  nomeEstacao  latitude  longitude   \n",
              "1       ÁGUA SANTA  430005901A  RS       Centro   -52.034    -28.176   \n",
              "2       ÁGUA SANTA  430005901A  RS       Centro   -52.034    -28.176   \n",
              "3       ÁGUA SANTA  430005901A  RS       Centro   -52.034    -28.176   \n",
              "4       ÁGUA SANTA  430005901A  RS       Centro   -52.034    -28.176   \n",
              "...            ...         ...  ..          ...       ...        ...   \n",
              "138353      VIAMÃO  432300206A  RS    São Lucas   -51.063    -30.092   \n",
              "138354      VIAMÃO  432300206A  RS    São Lucas   -51.063    -30.092   \n",
              "138355      VIAMÃO  432300206A  RS    São Lucas   -51.063    -30.092   \n",
              "138356      VIAMÃO  432300206A  RS    São Lucas   -51.063    -30.092   \n",
              "138357      VIAMÃO  432300206A  RS    São Lucas   -51.063    -30.092   \n",
              "\n",
              "                        tempo        preci      \n",
              "0                    datahora  valorMedida NaN  \n",
              "1       2020-05-01 00:10:00.0         0.00 NaN  \n",
              "2       2020-05-01 01:10:00.0         0.00 NaN  \n",
              "3       2020-05-01 02:10:00.0         0.00 NaN  \n",
              "4       2020-05-01 03:10:00.0         0.00 NaN  \n",
              "...                       ...          ...  ..  \n",
              "138353  2020-05-31 22:20:00.0          0.2 NaN  \n",
              "138354  2020-05-31 22:30:00.0          0.2 NaN  \n",
              "138355  2020-05-31 22:40:00.0          0.2 NaN  \n",
              "138356  2020-05-31 22:50:00.0          0.2 NaN  \n",
              "138357  2020-05-31 23:50:00.0            0 NaN  \n",
              "\n",
              "[138358 rows x 9 columns]"
            ]
          },
          "metadata": {
            "tags": []
          },
          "execution_count": 3
        }
      ]
    },
    {
      "cell_type": "code",
      "metadata": {
        "id": "sIKg6sPRAqkj",
        "colab_type": "code",
        "colab": {}
      },
      "source": [
        "nd = pd.DataFrame(dado, columns=['lon', 'lat', 'preci']).groupby(['lon','lat'])['preci'].sum().reset_index()\n",
        "p = nd.loc[0:70]\n",
        "nnd = pd.DataFrame(dado,columns=['lon', 'lat'])\n",
        "nnw = nnd.loc[1:70].values.astype(float)\n"
      ],
      "execution_count": null,
      "outputs": []
    },
    {
      "cell_type": "code",
      "metadata": {
        "id": "PIaLzR86Aqkm",
        "colab_type": "code",
        "colab": {}
      },
      "source": [
        "lat = p.lat.tolist()\n",
        "lng = p.lon.tolist()\n"
      ],
      "execution_count": null,
      "outputs": []
    },
    {
      "cell_type": "code",
      "metadata": {
        "id": "MuFDLJafAqkr",
        "colab_type": "code",
        "colab": {},
        "outputId": "55a1a291-c3f0-49b6-b60c-b206d68c4620"
      },
      "source": [
        "m = folium.Map(\n",
        "    location=[-30, -51],\n",
        "    tiles='Stamen Terrain',\n",
        "    zoom_start=5.49\n",
        ")\n",
        "\n",
        "HeatMap(list(zip(lat, lng))).add_to(m)\n",
        "\n",
        "\n",
        "\n",
        "folium.TileLayer('Stamen Terrain').add_to(m)\n",
        "folium.TileLayer('openstreetmap').add_to(m)\n",
        "folium.map.LayerControl('bottomright', collapsed=False, autoZIndex=True).add_to(m)\n",
        "\n",
        "\n",
        "colormap = cm.LinearColormap(colors=['lightblue','green','yellow','red'],vmin=0,vmax=110)\n",
        "\n",
        "colormap.caption= ('Acumulado de chuva (mm) maio/2020 - RS')\n",
        "colormap.add_to(m)\n",
        "\n",
        "m"
      ],
      "execution_count": null,
      "outputs": [
        {
          "output_type": "execute_result",
          "data": {
            "text/html": [
              "<div style=\"width:100%;\"><div style=\"position:relative;width:100%;height:0;padding-bottom:60%;\"><iframe src=\"about:blank\" style=\"position:absolute;width:100%;height:100%;left:0;top:0;border:none !important;\" data-html=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 onload=\"this.contentDocument.open();this.contentDocument.write(atob(this.getAttribute('data-html')));this.contentDocument.close();\" allowfullscreen webkitallowfullscreen mozallowfullscreen></iframe></div></div>"
            ],
            "text/plain": [
              "<folium.folium.Map at 0x12d20ad10>"
            ]
          },
          "metadata": {
            "tags": []
          },
          "execution_count": 233
        }
      ]
    },
    {
      "cell_type": "code",
      "metadata": {
        "id": "IWPESIpfAqku",
        "colab_type": "code",
        "colab": {}
      },
      "source": [
        ""
      ],
      "execution_count": null,
      "outputs": []
    }
  ]
}